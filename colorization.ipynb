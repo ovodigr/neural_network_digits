{
  "nbformat": 4,
  "nbformat_minor": 0,
  "metadata": {
    "colab": {
      "provenance": [],
      "authorship_tag": "ABX9TyMl6ewcYQXH1K2KQa8aQxER",
      "include_colab_link": true
    },
    "kernelspec": {
      "name": "python3",
      "display_name": "Python 3"
    },
    "language_info": {
      "name": "python"
    }
  },
  "cells": [
    {
      "cell_type": "markdown",
      "metadata": {
        "id": "view-in-github",
        "colab_type": "text"
      },
      "source": [
        "<a href=\"https://colab.research.google.com/github/ovodigr/neural_network_digits/blob/main/colorization.ipynb\" target=\"_parent\"><img src=\"https://colab.research.google.com/assets/colab-badge.svg\" alt=\"Open In Colab\"/></a>"
      ]
    },
    {
      "cell_type": "code",
      "execution_count": null,
      "metadata": {
        "id": "JiEl14uzn3fu"
      },
      "outputs": [],
      "source": [
        "colorization"
      ]
    },
    {
      "cell_type": "code",
      "source": [
        "from keras.layers import Conv2D, UpSampling2D, InputLayer\n",
        "from keras.models import Sequential\n",
        "from keras.preprocessing.image import ImageDataGenerator, array_to_img, img_to_array, load_img\n",
        "from skimage.color import rgb2lab, lab2rgb\n",
        "from skimage.io import imsave\n",
        "import numpy as np\n",
        "from google.colab import files\n",
        "from io import BytesIO\n",
        "from PIL import Image\n",
        "import matplotlib.pyplot as plt"
      ],
      "metadata": {
        "id": "Z4z_tbKDn6kK"
      },
      "execution_count": null,
      "outputs": []
    },
    {
      "cell_type": "code",
      "source": [
        "upl = files.upload()\n",
        "names = list(upl.keys())\n",
        "img = Image.open(BytesIO(upl[names[0]]))"
      ],
      "metadata": {
        "id": "egrPVCUMn8ir"
      },
      "execution_count": null,
      "outputs": []
    },
    {
      "cell_type": "code",
      "source": [
        "def processed_image(img):\n",
        "  image = img.resize( (256, 256), Image.BILINEAR)\n",
        "  image = np.array(image, dtype=float)\n",
        "  size = image.shape\n",
        "  lab = rgb2lab(1.0/255*image)\n",
        "  X, Y = lab[:,:,0], lab[:,:,1:]\n",
        "\n",
        "  Y /= 128    # нормируем выходные значение в диапазон от -1 до 1\n",
        "  X = X.reshape(1, size[0], size[1], 1)\n",
        "  Y = Y.reshape(1, size[0], size[1], 2)\n",
        "  return X, Y, size\n",
        "\n",
        "X, Y, size = processed_image(img)\n",
        "\n",
        "model = Sequential()\n",
        "model.add(InputLayer(input_shape=(None, None, 1)))\n",
        "model.add(Conv2D(64, (3, 3), activation='relu', padding='same'))\n",
        "model.add(Conv2D(64, (3, 3), activation='relu', padding='same', strides=2))\n",
        "model.add(Conv2D(128, (3, 3), activation='relu', padding='same'))\n",
        "model.add(Conv2D(128, (3, 3), activation='relu', padding='same', strides=2))\n",
        "model.add(Conv2D(256, (3, 3), activation='relu', padding='same'))\n",
        "model.add(Conv2D(256, (3, 3), activation='relu', padding='same', strides=2))\n",
        "model.add(Conv2D(512, (3, 3), activation='relu', padding='same'))\n",
        "model.add(Conv2D(256, (3, 3), activation='relu', padding='same'))\n",
        "model.add(Conv2D(128, (3, 3), activation='relu', padding='same'))\n",
        "model.add(UpSampling2D((2, 2)))\n",
        "model.add(Conv2D(64, (3, 3), activation='relu', padding='same'))\n",
        "model.add(UpSampling2D((2, 2)))\n",
        "model.add(Conv2D(32, (3, 3), activation='relu', padding='same'))\n",
        "model.add(Conv2D(2, (3, 3), activation='tanh', padding='same'))\n",
        "model.add(UpSampling2D((2, 2)))\n"
      ],
      "metadata": {
        "id": "ztxRkv6_oAsX"
      },
      "execution_count": null,
      "outputs": []
    },
    {
      "cell_type": "code",
      "source": [
        "model.compile(optimizer='adam', loss='mse')\n",
        "model.fit(x=X, y=Y, batch_size=1, epochs=50)\n",
        "\n",
        "upl = files.upload()\n",
        "names = list(upl.keys())\n",
        "img = Image.open(BytesIO(upl[names[0]]))\n",
        "X, Y, size = processed_image(img)\n",
        "\n",
        "output = model.predict(X)\n",
        "\n",
        "output *= 128\n",
        "min_vals, max_vals = -128, 127\n",
        "ab = np.clip(output[0], min_vals, max_vals)\n",
        "\n",
        "cur = np.zeros((size[0], size[1], 3))\n",
        "cur[:,:,0] = np.clip(X[0][:,:,0], 0, 100)\n",
        "cur[:,:,1:] = ab\n",
        "plt.subplot(1, 2, 1)\n",
        "plt.imshow(img)\n",
        "plt.subplot(1, 2, 2)\n",
        "plt.imshow(lab2rgb(cur))"
      ],
      "metadata": {
        "id": "y-aRNSUBoCJf"
      },
      "execution_count": null,
      "outputs": []
    }
  ]
}